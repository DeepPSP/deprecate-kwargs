{
 "cells": [
  {
   "cell_type": "code",
   "execution_count": 1,
   "id": "efe86c8e",
   "metadata": {},
   "outputs": [],
   "source": [
    "from deprecate_kwargs import deprecate_kwargs\n",
    "\n",
    "%load_ext autoreload\n",
    "%autoreload 2"
   ]
  },
  {
   "cell_type": "code",
   "execution_count": 2,
   "id": "4f64d015",
   "metadata": {},
   "outputs": [],
   "source": [
    "@deprecate_kwargs([[\"new_arg_1\", \"old_arg_1\"], [\"new_arg_2\", \"old_arg_2\"]])\n",
    "def some_func(old_arg_1: int, old_arg_2: int):\n",
    "    return old_arg_1 + old_arg_2"
   ]
  },
  {
   "cell_type": "code",
   "execution_count": null,
   "id": "6e0fab55",
   "metadata": {},
   "outputs": [],
   "source": []
  },
  {
   "cell_type": "code",
   "execution_count": 3,
   "id": "60f12218",
   "metadata": {},
   "outputs": [
    {
     "data": {
      "text/plain": [
       "<Signature (new_arg_1:int, new_arg_2:int)>"
      ]
     },
     "execution_count": 3,
     "metadata": {},
     "output_type": "execute_result"
    }
   ],
   "source": [
    "some_func.__signature__"
   ]
  },
  {
   "cell_type": "code",
   "execution_count": 4,
   "id": "3bdb7cfa",
   "metadata": {},
   "outputs": [
    {
     "data": {
      "text/plain": [
       "30"
      ]
     },
     "execution_count": 4,
     "metadata": {},
     "output_type": "execute_result"
    }
   ],
   "source": [
    "some_func(10, 20)"
   ]
  },
  {
   "cell_type": "code",
   "execution_count": 5,
   "id": "aac26ef6",
   "metadata": {},
   "outputs": [
    {
     "data": {
      "text/plain": [
       "30"
      ]
     },
     "execution_count": 5,
     "metadata": {},
     "output_type": "execute_result"
    }
   ],
   "source": [
    "some_func(new_arg_1=10, new_arg_2=20)"
   ]
  },
  {
   "cell_type": "code",
   "execution_count": 6,
   "id": "69f9f3ac",
   "metadata": {},
   "outputs": [
    {
     "name": "stderr",
     "output_type": "stream",
     "text": [
      "/home/wenhao/Jupyter/wenhao/workspace/deprecate-kwargs/deprecate_kwargs/_dk.py:63: UserWarning: key word argument \"old_arg_1\" is deprecated, use \"new_arg_1\" instead\n",
      "  f\"key word argument \\042{old_kw}\\042 is deprecated, use \\042{new_kw}\\042 instead\"\n",
      "/home/wenhao/Jupyter/wenhao/workspace/deprecate-kwargs/deprecate_kwargs/_dk.py:63: UserWarning: key word argument \"old_arg_2\" is deprecated, use \"new_arg_2\" instead\n",
      "  f\"key word argument \\042{old_kw}\\042 is deprecated, use \\042{new_kw}\\042 instead\"\n"
     ]
    },
    {
     "data": {
      "text/plain": [
       "30"
      ]
     },
     "execution_count": 6,
     "metadata": {},
     "output_type": "execute_result"
    }
   ],
   "source": [
    "some_func(old_arg_1=10, old_arg_2=20)"
   ]
  },
  {
   "cell_type": "code",
   "execution_count": null,
   "id": "2ade6bf4",
   "metadata": {},
   "outputs": [],
   "source": []
  }
 ],
 "metadata": {
  "kernelspec": {
   "display_name": "Python 3",
   "language": "python",
   "name": "python3"
  },
  "language_info": {
   "codemirror_mode": {
    "name": "ipython",
    "version": 3
   },
   "file_extension": ".py",
   "mimetype": "text/x-python",
   "name": "python",
   "nbconvert_exporter": "python",
   "pygments_lexer": "ipython3",
   "version": "3.6.9"
  }
 },
 "nbformat": 4,
 "nbformat_minor": 5
}
